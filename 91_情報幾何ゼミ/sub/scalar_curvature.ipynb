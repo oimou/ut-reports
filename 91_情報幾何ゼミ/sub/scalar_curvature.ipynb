{
 "cells": [
  {
   "cell_type": "code",
   "execution_count": 3,
   "metadata": {},
   "outputs": [],
   "source": [
    "import sympy\n",
    "\n",
    "# define symbols\n",
    "p1, p2, a = sympy.symbols('p1 p2 a')\n",
    "\n",
    "A = sympy.Array([\n",
    "    [[1 - 2*p1, 0], [-p2, -p1]],\n",
    "    [[-p2, -p1], [0, 1 - 2*p2]]\n",
    "])\n",
    "p3 = 1 - p1 - p2\n",
    "G = sympy.Array([\n",
    "    [p3 / p1 + 1, 1],\n",
    "    [1, p3 / p2 + 1]\n",
    "]) / p3"
   ]
  },
  {
   "cell_type": "code",
   "execution_count": 54,
   "metadata": {},
   "outputs": [],
   "source": [
    "from sympy import Sum, Rational, simplify, collect\n",
    "from IPython.display import Latex\n",
    "\n",
    "k, m, x, y = sympy.symbols('k m x y', cls=sympy.Idx)\n",
    "\n",
    "def Riem(i, j, k, l):\n",
    "    expr = - (1 - a**2) / 4 * (A[i, m, l] * A[j, k, m] - A[j, m, l] * A[i, k, m])\n",
    "    return Sum(expr, (m, 0, 1)).doit()\n",
    "\n",
    "def Ric(i, j):\n",
    "    expr = Riem(k, i, j, k)\n",
    "    return Sum(expr, (k, 0, 1), (m, 0, 1)).doit()\n",
    "\n",
    "def Scal():\n",
    "    expr = G[x, y] * Ric(x, y)\n",
    "    return Sum(expr, (x, 0, 1), (y, 0, 1)).doit()"
   ]
  },
  {
   "cell_type": "code",
   "execution_count": 60,
   "metadata": {},
   "outputs": [
    {
     "data": {
      "text/latex": [
       "${R_{000}}^{0} = 0$"
      ],
      "text/plain": [
       "<IPython.core.display.Latex object>"
      ]
     },
     "metadata": {},
     "output_type": "display_data"
    },
    {
     "data": {
      "text/latex": [
       "${R_{000}}^{1} = 0$"
      ],
      "text/plain": [
       "<IPython.core.display.Latex object>"
      ]
     },
     "metadata": {},
     "output_type": "display_data"
    },
    {
     "data": {
      "text/latex": [
       "${R_{001}}^{0} = 0$"
      ],
      "text/plain": [
       "<IPython.core.display.Latex object>"
      ]
     },
     "metadata": {},
     "output_type": "display_data"
    },
    {
     "data": {
      "text/latex": [
       "${R_{001}}^{1} = 0$"
      ],
      "text/plain": [
       "<IPython.core.display.Latex object>"
      ]
     },
     "metadata": {},
     "output_type": "display_data"
    },
    {
     "data": {
      "text/latex": [
       "${R_{010}}^{0} = \\frac{p_{1} p_{2} \\left(a^{2} - 1\\right)}{4}$"
      ],
      "text/plain": [
       "<IPython.core.display.Latex object>"
      ]
     },
     "metadata": {},
     "output_type": "display_data"
    },
    {
     "data": {
      "text/latex": [
       "${R_{010}}^{1} = \\frac{p_{1} \\cdot \\left(1 - p_{1}\\right) \\left(a^{2} - 1\\right)}{4}$"
      ],
      "text/plain": [
       "<IPython.core.display.Latex object>"
      ]
     },
     "metadata": {},
     "output_type": "display_data"
    },
    {
     "data": {
      "text/latex": [
       "${R_{011}}^{0} = \\frac{p_{2} \\left(a^{2} - 1\\right) \\left(p_{2} - 1\\right)}{4}$"
      ],
      "text/plain": [
       "<IPython.core.display.Latex object>"
      ]
     },
     "metadata": {},
     "output_type": "display_data"
    },
    {
     "data": {
      "text/latex": [
       "${R_{011}}^{1} = \\frac{p_{1} p_{2} \\cdot \\left(1 - a^{2}\\right)}{4}$"
      ],
      "text/plain": [
       "<IPython.core.display.Latex object>"
      ]
     },
     "metadata": {},
     "output_type": "display_data"
    },
    {
     "data": {
      "text/latex": [
       "${R_{100}}^{0} = \\frac{p_{1} p_{2} \\cdot \\left(1 - a^{2}\\right)}{4}$"
      ],
      "text/plain": [
       "<IPython.core.display.Latex object>"
      ]
     },
     "metadata": {},
     "output_type": "display_data"
    },
    {
     "data": {
      "text/latex": [
       "${R_{100}}^{1} = \\frac{p_{1} \\left(a^{2} - 1\\right) \\left(p_{1} - 1\\right)}{4}$"
      ],
      "text/plain": [
       "<IPython.core.display.Latex object>"
      ]
     },
     "metadata": {},
     "output_type": "display_data"
    },
    {
     "data": {
      "text/latex": [
       "${R_{101}}^{0} = \\frac{p_{2} \\cdot \\left(1 - p_{2}\\right) \\left(a^{2} - 1\\right)}{4}$"
      ],
      "text/plain": [
       "<IPython.core.display.Latex object>"
      ]
     },
     "metadata": {},
     "output_type": "display_data"
    },
    {
     "data": {
      "text/latex": [
       "${R_{101}}^{1} = \\frac{p_{1} p_{2} \\left(a^{2} - 1\\right)}{4}$"
      ],
      "text/plain": [
       "<IPython.core.display.Latex object>"
      ]
     },
     "metadata": {},
     "output_type": "display_data"
    },
    {
     "data": {
      "text/latex": [
       "${R_{110}}^{0} = 0$"
      ],
      "text/plain": [
       "<IPython.core.display.Latex object>"
      ]
     },
     "metadata": {},
     "output_type": "display_data"
    },
    {
     "data": {
      "text/latex": [
       "${R_{110}}^{1} = 0$"
      ],
      "text/plain": [
       "<IPython.core.display.Latex object>"
      ]
     },
     "metadata": {},
     "output_type": "display_data"
    },
    {
     "data": {
      "text/latex": [
       "${R_{111}}^{0} = 0$"
      ],
      "text/plain": [
       "<IPython.core.display.Latex object>"
      ]
     },
     "metadata": {},
     "output_type": "display_data"
    },
    {
     "data": {
      "text/latex": [
       "${R_{111}}^{1} = 0$"
      ],
      "text/plain": [
       "<IPython.core.display.Latex object>"
      ]
     },
     "metadata": {},
     "output_type": "display_data"
    }
   ],
   "source": [
    "# Show Riemann tensor\n",
    "for _i in range(2):\n",
    "    for _j in range(2):\n",
    "        for _k in range(2):\n",
    "            for _l in range(2):\n",
    "                display(\n",
    "                    Latex(\n",
    "                        r'${R_{%d%d%d}}^{%d} = %s$'\n",
    "                        % (_i, _j, _k, _l, sympy.latex(simplify(Riem(_i, _j, _k, _l))))\n",
    "                    )\n",
    "                )"
   ]
  },
  {
   "cell_type": "code",
   "execution_count": 61,
   "metadata": {},
   "outputs": [
    {
     "data": {
      "text/latex": [
       "$R_{00} = \\frac{p_{1} \\left(a^{2} p_{1} - a^{2} - p_{1} + 1\\right)}{2}$"
      ],
      "text/plain": [
       "<IPython.core.display.Latex object>"
      ]
     },
     "metadata": {},
     "output_type": "display_data"
    },
    {
     "data": {
      "text/latex": [
       "$R_{01} = \\frac{p_{1} p_{2} \\left(a^{2} - 1\\right)}{2}$"
      ],
      "text/plain": [
       "<IPython.core.display.Latex object>"
      ]
     },
     "metadata": {},
     "output_type": "display_data"
    },
    {
     "data": {
      "text/latex": [
       "$R_{10} = \\frac{p_{1} p_{2} \\left(a^{2} - 1\\right)}{2}$"
      ],
      "text/plain": [
       "<IPython.core.display.Latex object>"
      ]
     },
     "metadata": {},
     "output_type": "display_data"
    },
    {
     "data": {
      "text/latex": [
       "$R_{11} = \\frac{p_{2} \\left(a^{2} p_{2} - a^{2} - p_{2} + 1\\right)}{2}$"
      ],
      "text/plain": [
       "<IPython.core.display.Latex object>"
      ]
     },
     "metadata": {},
     "output_type": "display_data"
    }
   ],
   "source": [
    "# Show Ricci tensor\n",
    "for _i in range(2):\n",
    "    for _j in range(2):\n",
    "        display(Latex(r'$R_{%d%d} = %s$' % (_i, _j, sympy.latex(simplify(Ric(_i, _j))))))"
   ]
  },
  {
   "cell_type": "code",
   "execution_count": 63,
   "metadata": {},
   "outputs": [
    {
     "data": {
      "text/latex": [
       "$\\displaystyle 1 - a^{2}$"
      ],
      "text/plain": [
       "1 - a**2"
      ]
     },
     "execution_count": 63,
     "metadata": {},
     "output_type": "execute_result"
    }
   ],
   "source": [
    "# Show scalar curvature\n",
    "simplify(Scal())"
   ]
  },
  {
   "cell_type": "code",
   "execution_count": 33,
   "metadata": {},
   "outputs": [],
   "source": [
    "expr = Scal()"
   ]
  },
  {
   "cell_type": "code",
   "execution_count": 34,
   "metadata": {},
   "outputs": [
    {
     "data": {
      "text/latex": [
       "$\\displaystyle 2.0 \\cdot 10^{-125}$"
      ],
      "text/plain": [
       "0.e-125"
      ]
     },
     "metadata": {},
     "output_type": "display_data"
    },
    {
     "data": {
      "text/latex": [
       "$\\displaystyle 2.0 \\cdot 10^{-125}$"
      ],
      "text/plain": [
       "0.e-125"
      ]
     },
     "metadata": {},
     "output_type": "display_data"
    }
   ],
   "source": [
    "display(expr.evalf(subs={a: 1, p1: 0.3, p2: 0.3}))\n",
    "display(expr.evalf(subs={a: -1, p1: 0.3, p2: 0.3}))"
   ]
  }
 ],
 "metadata": {
  "kernelspec": {
   "display_name": "Python 3",
   "language": "python",
   "name": "python3"
  },
  "language_info": {
   "codemirror_mode": {
    "name": "ipython",
    "version": 3
   },
   "file_extension": ".py",
   "mimetype": "text/x-python",
   "name": "python",
   "nbconvert_exporter": "python",
   "pygments_lexer": "ipython3",
   "version": "3.11.3"
  },
  "orig_nbformat": 4
 },
 "nbformat": 4,
 "nbformat_minor": 2
}

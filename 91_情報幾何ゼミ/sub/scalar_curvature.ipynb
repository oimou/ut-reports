{
 "cells": [
  {
   "cell_type": "code",
   "execution_count": null,
   "metadata": {},
   "outputs": [],
   "source": [
    "import sympy\n",
    "\n",
    "# define symbols\n",
    "p1, p2, a = sympy.symbols('p1 p2 a')\n",
    "\n",
    "A = sympy.Array([\n",
    "    [[1 - 2*p1, 0], [-p2, -p1]],\n",
    "    [[-p2, -p1], [0, 1 - 2*p2]]\n",
    "])\n",
    "p3 = 1 - p1 - p2\n",
    "G = sympy.Array([\n",
    "    [p3 / p1 + 1, 1],\n",
    "    [1, p3 / p2 + 1]\n",
    "]) / p3\n",
    "\n",
    "#\n",
    "from sympy import Sum, Rational, simplify, collect\n",
    "\n",
    "k, m, x, y = sympy.symbols('k m x y', cls=sympy.Idx)\n",
    "\n",
    "def Riem(i, j, k, l):\n",
    "    expr = (1 - a) / 2 * (- A[k, m, k] * A[i, k, m] + A[i, m, k] * A[k, j, m]) \\\n",
    "        + ((1 - a) / 2)**2 * (A[i, j, m] * A[k, m, k] - A[k, j, m] * A[i, m, k])\n",
    "    return simplify(Sum(expr, (m, 0, 1)).doit())\n",
    "\n",
    "def Ric(i, j):\n",
    "    expr = Riem(k, i, j, k)\n",
    "    return simplify(Sum(expr, (k, 0, 1), (m, 0, 1)).doit())\n",
    "\n",
    "def Scal():\n",
    "    expr = G[x, y] * Ric(x, y)\n",
    "    return simplify(Sum(expr, (x, 0, 1), (y, 0, 1)).doit())\n",
    "\n",
    "Scal()"
   ]
  }
 ],
 "metadata": {
  "language_info": {
   "name": "python"
  },
  "orig_nbformat": 4
 },
 "nbformat": 4,
 "nbformat_minor": 2
}
